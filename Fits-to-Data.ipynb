{
 "cells": [
  {
   "cell_type": "code",
   "execution_count": null,
   "id": "eac79149-40b1-4ba7-9349-9bbfff75161e",
   "metadata": {},
   "outputs": [],
   "source": [
    "from astropy.io import fits\n",
    "import astropy.constants as C\n",
    "import astropy.units as u\n",
    "import numpy as np\n",
    "import matplotlib.pyplot as plt\n",
    "import pandas as pd"
   ]
  },
  {
   "cell_type": "code",
   "execution_count": null,
   "id": "da36f422-3314-4724-85dc-a757fbe55a2a",
   "metadata": {},
   "outputs": [],
   "source": [
    "#Reading in the data\n",
    "file_prism = fits.open('NIRSPEC-PRISM.fits')\n",
    "header_prism = file_prism[0].header\n",
    "data_prism = file_prism[ 1 ].data\n",
    "data_header_prism = file_prism[ 1 ].header\n",
    "\n",
    "file_miri = fits.open('MIRI-LRS.fits')\n",
    "header_miri = file_miri[0].header\n",
    "data_miri = file_miri[ 1 ].data\n",
    "data_header_miri = file_miri[ 1 ].header"
   ]
  },
  {
   "cell_type": "code",
   "execution_count": null,
   "id": "ca954491-bd4d-4892-ac2c-c41d350073f5",
   "metadata": {},
   "outputs": [],
   "source": [
    "#I’ll just show how to convert the units for prism .\n",
    "#The same idea applies to miri / lrs .\n",
    "wave_prism = data_prism['WAVELENGTH'] * u.micron\n",
    "flux_prism = data_prism ['FLUX '] * u.Jy #Jy\n",
    "error_prism = data_prism[ 'FLUX_ERROR ']*u.Jy# Jy\n",
    "#converted from Jy to ergs/s/cmˆ2/um\n",
    "FLUX_prism = ( (flux_prism * C.c ) / wave_prism ** 2 ).to(u.erg /u.s/u.cm**2/u.AA).value\n",
    "ERROR_prism =(( error_prism * C.c ) / wave_prism**2).to(u.erg /u.s/u.cm**2/u.AA).value\n",
    "#transformed the data\n",
    "FLUX_prism = FLUX_prism.astype(FLUX_prism.dtype.newbyteorder('='))\n",
    "#now to trim the data\n",
    "#getting rid of the nan values\n",
    "trimmed_FLUX_prism = FLUX_prism [~np.isnan(FLUX_prism)]\n",
    "WAVE_prism = wave_prism.value.astype(wave_prism.value.dtype.newbyteorder ('='))\n",
    "#now have together they have the same size array for the wavelength array\n",
    "trimmed_WAVE_prism = WAVE_prism [~np.isnan(FLUX_prism)]\n",
    "#samething for the unc.error\n",
    "trimmed_ERROR_prism = ERROR_prism[~np.isnan(FLUX_prism)]\n",
    "\n",
    "\n",
    "#removing any negative negative\n",
    "negative_indices_prism = np.where(trimmed_FLUX_prism < 0)[0]\n",
    "pos_trim_FLUX_prism = np.delete(trimmed_FLUX_prism, negative_indices_prism)\n",
    "pos_trim_WAVE_prism = np.delete(trimmed_WAVE_prism, negative_indices_prism)\n",
    "pos_trim_ERROR_prism = np.delete(trimmed_ERROR_prism, negative_indices_prism)"
   ]
  },
  {
   "cell_type": "code",
   "execution_count": null,
   "id": "f5b46d0b-5880-4796-85fc-06865058b614",
   "metadata": {},
   "outputs": [],
   "source": [
    "#Now for MIRI\n",
    "wave_miri = data_miri['WAVELENGTH'] * u.micron\n",
    "flux_miri = data_miri['FLUX '] * u.Jy #Jy\n",
    "error_miri = data_miri[ 'FLUX_ERROR '] * u.Jy# Jy\n",
    "#converted from Jy to ergs/s/cmˆ2/um\n",
    "FLUX_miri = ( (flux_miri * C.c ) / wave_miri ** 2 ).to(u.erg /u.s/u.cm**2/u.AA).value\n",
    "ERROR_miri =(( error_miri * C.c ) / wave_miri**2).to(u.erg /u.s/u.cm**2/u.AA).value\n",
    "#transformed the data\n",
    "FLUX_miri = FLUX_miri.astype(FLUX_miri.dtype.newbyteorder('='))\n",
    "#now to trim the data\n",
    "#getting rid of the nan values\n",
    "trimmed_FLUX_miri = FLUX_miri [~np.isnan(FLUX_miri)][::-1]\n",
    "WAVE_miri = wave_miri.value.astype(wave_miri.value.dtype.newbyteorder ('='))\n",
    "#now have together they have the same size array for the wavelength array\n",
    "trimmed_WAVE_miri = WAVE_miri[~np.isnan(FLUX_miri)][::-1]\n",
    "#samething for the unc.error\n",
    "trimmed_ERROR_miri = ERROR_miri[~np.isnan(FLUX_miri)][::-1]\n",
    "\n",
    "\n",
    "#removing any negative values\n",
    "negative_indices_miri = np.where(trimmed_FLUX_miri < 0)[0]\n",
    "pos_trim_FLUX_miri = np.delete(trimmed_FLUX_miri, negative_indices_miri)\n",
    "pos_trim_WAVE_miri = np.delete(trimmed_WAVE_miri, negative_indices_miri)\n",
    "pos_trim_ERROR_miri = np.delete(trimmed_ERROR_miri, negative_indices_miri)"
   ]
  },
  {
   "cell_type": "code",
   "execution_count": null,
   "id": "29d59d97-dd72-4925-a546-15fcf1ca9a2d",
   "metadata": {},
   "outputs": [],
   "source": [
    "plt.plot(pos_trim_WAVE_prism,pos_trim_FLUX_prism,label='NIRSpec PRISM')\n",
    "plt.plot(pos_trim_WAVE_miri,pos_trim_FLUX_miri,label = 'MIRI LRS')\n",
    "plt.xlabel('Wavelength [microns]')\n",
    "plt.ylabel('Flux [erg/s/cm$^2$/Å]')\n",
    "plt.legend();"
   ]
  },
  {
   "cell_type": "code",
   "execution_count": null,
   "id": "88b91235-c67b-4c91-a6d5-d3b22e5072ba",
   "metadata": {},
   "outputs": [],
   "source": [
    "#We need to find the SNR\n",
    "SNR_prism = pos_trim_FLUX_prism / pos_trim_ERROR_prism\n",
    "SNR_miri = pos_trim_FLUX_miri / pos_trim_ERROR_miri"
   ]
  },
  {
   "cell_type": "code",
   "execution_count": null,
   "id": "a46b67ef-6c87-4d25-971e-dfce2b8e79e1",
   "metadata": {},
   "outputs": [],
   "source": [
    "plt.plot(pos_trim_WAVE_prism, SNR_prism,label='NIRSpec SNR')\n",
    "plt.plot(pos_trim_WAVE_miri, SNR_miri,label = 'MIRI SNR')\n",
    "plt.xlabel('Wavelength [microns]')\n",
    "plt.ylabel('Signal-to-Noise')\n",
    "plt.legend()\n",
    "#we see that they intersect around 4.5 microns"
   ]
  },
  {
   "cell_type": "code",
   "execution_count": null,
   "id": "56139b19-ccf7-46cf-b70c-de51b94c7dc6",
   "metadata": {},
   "outputs": [],
   "source": [
    "#creating a dataframe so that you can see the tables side by side.\n",
    "#we need to be more accurante than just saying they intersect around 4.5 microns. But we have an idea which wavelengths we should be looking at.\n",
    "#I see the SNR for MIRI becomes higher at the 11th index.\n",
    "#The SNR for NIRSpec becomes lower than MIRI at the 319th index.\n",
    "#This can be seen by running the next cell. \n",
    "prism_words = len(pos_trim_WAVE_prism)*['NIRSpec']\n",
    "miri_words = len(pos_trim_WAVE_miri)*['MIRI']\n",
    "\n",
    "prism_dictionary = {'Wavelength':pos_trim_WAVE_prism,\n",
    "                'SNR': SNR_prism,\n",
    "                'Instrument': prism_words}\n",
    "df1 = pd.DataFrame(prism_dictionary)\n",
    "\n",
    "miri_dictionary = {'Wavelength':pos_trim_WAVE_miri,\n",
    "                'SNR': SNR_miri,\n",
    "                'Instrument': miri_words}\n",
    "df2 = pd.DataFrame(miri_dictionary)"
   ]
  },
  {
   "cell_type": "code",
   "execution_count": null,
   "id": "928305ff-4778-4481-91dd-8c8720b423dd",
   "metadata": {
    "scrolled": true
   },
   "outputs": [],
   "source": [
    "from IPython.display import display, HTML\n",
    "display(HTML(f\"\"\"\n",
    "    <div style=\"display: flex; justify-content: space-around;\">\n",
    "        <div>{df1.to_html()}</div>\n",
    "        <div>{df2.to_html()}</div>\n",
    "    </div>\n",
    "\"\"\"))\n",
    "#I am sure there is an easier way than to do this by eye, but that's more trouble than what its worth."
   ]
  },
  {
   "cell_type": "code",
   "execution_count": null,
   "id": "7789a438-88f8-4c5e-ae16-fda031ce4a4a",
   "metadata": {},
   "outputs": [],
   "source": [
    "#trim prism data to the 319th index since this is where the SNR becomes smaller compared to the MIRI data\n",
    "final_WAVE_prism = pos_trim_WAVE_prism[:319]\n",
    "final_FLUX_prism = pos_trim_FLUX_prism[:319]\n",
    "final_ERROR_prism = pos_trim_ERROR_prism[:319]\n",
    "\n",
    "#trim the miri data before the 11th index since the data before it has a smaller SNR compared to the PRISM dara\n",
    "final_WAVE_miri = pos_trim_WAVE_miri[11:]\n",
    "final_FLUX_miri = pos_trim_FLUX_miri[11:]\n",
    "final_ERROR_miri = pos_trim_ERROR_miri[11:]"
   ]
  },
  {
   "cell_type": "markdown",
   "id": "e670b032-5091-40c6-a02d-3852f7ed58c1",
   "metadata": {},
   "source": [
    "## To get the power resolution function, you will need to see my notes."
   ]
  },
  {
   "cell_type": "code",
   "execution_count": null,
   "id": "97bb76e8-84b3-4b89-8880-3e77361237a5",
   "metadata": {},
   "outputs": [],
   "source": [
    "NIRSpec_res = SolveNirSpecRes(final_WAVE_prism)\n",
    "MIRI_res = SolveMiriRes(final_WAVE_miri)"
   ]
  },
  {
   "cell_type": "code",
   "execution_count": null,
   "id": "2a3d94c0-5ab3-410c-bd58-224a37e8df9e",
   "metadata": {},
   "outputs": [],
   "source": [
    "#I am multiply 10 to convert erg/s/cm^2/A to W/m^2/um\n",
    "#Now, I combining both arrays\n",
    "final_wave = np.concatenate( (final_WAVE_prism, final_WAVE_miri) )\n",
    "final_flux = np.concatenate( (final_FLUX_prism, final_FLUX_miri) ) * 10\n",
    "final_error = np.concatenate( (final_ERROR_prism, final_ERROR_miri) ) *10\n",
    "final_res = np.concatenate( (NIRSpec_res, MIRI_res) )"
   ]
  },
  {
   "cell_type": "code",
   "execution_count": null,
   "id": "788cd64b-4262-4a5a-93bb-fe07b52b6c17",
   "metadata": {},
   "outputs": [],
   "source": [
    "#check to see everything looks right\n",
    "plt.plot(final_wave, final_flux)\n",
    "plt.xlabel('Wavelength [microns]')\n",
    "plt.ylabel('Flux [erg/s/cm$^2$/Å]');"
   ]
  },
  {
   "cell_type": "code",
   "execution_count": null,
   "id": "cfaf32f4-ca77-4868-be79-4ba4e7d525c4",
   "metadata": {},
   "outputs": [],
   "source": [
    "#now we can save it to txt file so we can run retrievals.\n",
    "data = {'w':final_wave,\n",
    "                  'f':final_flux,\n",
    "                  'e':final_error,\n",
    "                  'r':final_res}\n",
    "#df = pd.DataFrame(data).to_csv('J1416B_PRISM+LRS.txt',index=False,sep='\\t',header=None)"
   ]
  },
  {
   "cell_type": "code",
   "execution_count": null,
   "id": "716f9958-a962-466e-b724-37e040a0c9cf",
   "metadata": {},
   "outputs": [],
   "source": []
  }
 ],
 "metadata": {
  "kernelspec": {
   "display_name": "Python 3 (ipykernel)",
   "language": "python",
   "name": "python3"
  },
  "language_info": {
   "codemirror_mode": {
    "name": "ipython",
    "version": 3
   },
   "file_extension": ".py",
   "mimetype": "text/x-python",
   "name": "python",
   "nbconvert_exporter": "python",
   "pygments_lexer": "ipython3",
   "version": "3.10.12"
  }
 },
 "nbformat": 4,
 "nbformat_minor": 5
}
